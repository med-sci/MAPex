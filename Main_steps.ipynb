{
 "cells": [
  {
   "cell_type": "code",
   "execution_count": 1,
   "metadata": {},
   "outputs": [],
   "source": [
    "from MAPex.geneticAlgorithm import GA\n",
    "from MAPex.helpers import generate_conformations, py_mol_viz\n",
    "from MAPex.pharmacophore import PharmComplex\n",
    "from rdkit.Chem import PyMol"
   ]
  },
  {
   "cell_type": "markdown",
   "metadata": {},
   "source": [
    "### Molecules loading\n",
    "Molecules could be loaded as dictionary, where key responds for molecule name and value represent SMILES notation"
   ]
  },
  {
   "cell_type": "code",
   "execution_count": 2,
   "metadata": {},
   "outputs": [],
   "source": [
    "smiles_dict = {'CHEMBL3642535':'COc1ccc2c(c1F)C(=O)N(C[C@@]1(C#Cc3cccnc3C)NC(=O)NC1=O)C2',\n",
    "               'CHEMBL1287881':'CCN1CCN(Cc2ccc(C#C[C@]3(CN4Cc5ccc(OC)cc5C4=O)NC(=O)NC3=O)cc2)CC1',\n",
    "               'CHEMBL3642544':'COc1ccc2c(c1)C(=O)N(C[C@@]1(C#Cc3ccc(C4(C)NC(=O)NC4=O)c(F)c3)NC(=O)NC1=O)C2',\n",
    "               'CHEMBL3640366':'COc1ccc2c(c1F)C(=O)N(C[C@@]1(C#Cc3ccc(-c4nc(-c5cccnc5)ccc4O)cc3)NC(=O)NC1=O)C2',\n",
    "               'CHEMBL3947142':'COc1cccc2c1ncc1c(=O)n(-c3cccc(Cl)c3)c(=O)n(C3CCNCC3)c12',}"
   ]
  },
  {
   "cell_type": "markdown",
   "metadata": {},
   "source": [
    "### Conformers generation\n",
    "For each molecule number of conformers are generated. Number of conformers could be specified by user."
   ]
  },
  {
   "cell_type": "code",
   "execution_count": 4,
   "metadata": {},
   "outputs": [
    {
     "data": {
      "application/vnd.jupyter.widget-view+json": {
       "model_id": "765d23534bed4d658950dda4aacf087d",
       "version_major": 2,
       "version_minor": 0
      },
      "text/plain": [
       "HBox(children=(FloatProgress(value=0.0, max=5.0), HTML(value='')))"
      ]
     },
     "metadata": {},
     "output_type": "display_data"
    },
    {
     "name": "stdout",
     "output_type": "stream",
     "text": [
      "\n"
     ]
    }
   ],
   "source": [
    "molecules = generate_conformations(smiles_dict, 30)"
   ]
  },
  {
   "cell_type": "markdown",
   "metadata": {},
   "source": [
    "### Genetic Algorithm (GA) instance\n",
    "Creates a GA instance with following params:\n",
    "- List of molecules\n",
    "- Number of individs in generation\n",
    "- Chance for mutation to occur\n",
    "- Number of generations\n",
    "- Use Crippen (True) or MMFF (False) to perform alignment\n",
    "- Verbose for details"
   ]
  },
  {
   "cell_type": "code",
   "execution_count": 5,
   "metadata": {},
   "outputs": [],
   "source": [
    "g = GA(\n",
    "    mols=molecules,\n",
    "    n_inds=10, \n",
    "    mutation_chance=0.3, \n",
    "    generations=50,\n",
    "    crippen=False,\n",
    "    verbose=True\n",
    ")"
   ]
  },
  {
   "cell_type": "markdown",
   "metadata": {},
   "source": [
    "Runs algorithm"
   ]
  },
  {
   "cell_type": "code",
   "execution_count": 6,
   "metadata": {},
   "outputs": [
    {
     "data": {
      "application/vnd.jupyter.widget-view+json": {
       "model_id": "84359000982642d5b7b4977bce3223ac",
       "version_major": 2,
       "version_minor": 0
      },
      "text/plain": [
       "HBox(children=(FloatProgress(value=0.0, max=50.0), HTML(value='')))"
      ]
     },
     "metadata": {},
     "output_type": "display_data"
    },
    {
     "name": "stdout",
     "output_type": "stream",
     "text": [
      "chromosome [15, 7, 16, 5, 28] with score 158.92\n",
      "chromosome [17, 22, 27, 8, 24] with score 161.09\n",
      "chromosome [17, 22, 27, 8, 24] with score 161.09\n",
      "chromosome [17, 22, 27, 8, 24] with score 161.09\n",
      "chromosome [17, 22, 27, 8, 24] with score 161.09\n",
      "chromosome [17, 22, 27, 8, 24] with score 161.09\n",
      "chromosome [17, 22, 27, 8, 24] with score 161.09\n",
      "chromosome [17, 22, 27, 8, 24] with score 161.09\n",
      "chromosome [17, 22, 27, 8, 24] with score 161.09\n",
      "chromosome [17, 22, 27, 8, 24] with score 161.09\n",
      "chromosome [17, 22, 27, 8, 24] with score 161.09\n",
      "chromosome [17, 22, 27, 8, 24] with score 161.09\n",
      "chromosome [17, 22, 27, 8, 24] with score 161.09\n",
      "chromosome [17, 22, 27, 8, 24] with score 161.09\n",
      "chromosome [17, 22, 27, 8, 24] with score 161.09\n",
      "chromosome [17, 22, 27, 8, 24] with score 161.09\n",
      "chromosome [17, 22, 27, 8, 24] with score 161.09\n",
      "chromosome [17, 22, 27, 8, 24] with score 161.09\n",
      "chromosome [17, 22, 27, 8, 24] with score 161.09\n",
      "chromosome [17, 22, 27, 8, 24] with score 161.09\n",
      "chromosome [17, 22, 27, 8, 24] with score 161.09\n",
      "chromosome [17, 22, 27, 8, 24] with score 161.09\n",
      "chromosome [17, 22, 27, 8, 24] with score 161.09\n",
      "chromosome [17, 22, 27, 8, 24] with score 161.09\n",
      "chromosome [17, 22, 27, 8, 24] with score 161.09\n",
      "chromosome [23, 8, 0, 1, 29] with score 163.15\n",
      "chromosome [23, 8, 0, 1, 29] with score 163.15\n",
      "chromosome [23, 8, 0, 1, 29] with score 163.15\n",
      "chromosome [23, 8, 0, 1, 29] with score 163.15\n",
      "chromosome [23, 8, 0, 1, 29] with score 163.15\n",
      "chromosome [23, 8, 0, 1, 29] with score 163.15\n",
      "chromosome [23, 8, 0, 1, 29] with score 163.15\n",
      "chromosome [23, 8, 0, 1, 29] with score 163.15\n",
      "chromosome [23, 8, 0, 1, 29] with score 163.15\n",
      "chromosome [23, 8, 0, 1, 29] with score 163.15\n",
      "chromosome [23, 8, 0, 1, 29] with score 163.15\n",
      "chromosome [23, 8, 0, 1, 29] with score 163.15\n",
      "chromosome [23, 8, 0, 1, 29] with score 163.15\n",
      "chromosome [23, 8, 0, 1, 29] with score 163.15\n",
      "chromosome [23, 8, 0, 1, 29] with score 163.15\n",
      "chromosome [23, 8, 0, 1, 29] with score 163.15\n",
      "chromosome [23, 8, 0, 1, 29] with score 163.15\n",
      "chromosome [23, 8, 0, 1, 29] with score 163.15\n",
      "chromosome [23, 8, 0, 1, 29] with score 163.15\n",
      "chromosome [23, 8, 0, 1, 29] with score 163.15\n",
      "chromosome [23, 8, 0, 1, 29] with score 163.15\n",
      "chromosome [23, 8, 0, 1, 29] with score 163.15\n",
      "chromosome [23, 8, 0, 1, 29] with score 163.15\n",
      "chromosome [23, 8, 0, 1, 29] with score 163.15\n",
      "chromosome [23, 8, 0, 1, 29] with score 163.15\n",
      "\n",
      "chromosome [23, 8, 0, 1, 29] with score 163.15\n"
     ]
    }
   ],
   "source": [
    "g.run()"
   ]
  },
  {
   "cell_type": "markdown",
   "metadata": {},
   "source": [
    "Get aligned molecules by calling *get_molecules()* function, conformation IDs are stored in *best_chromosome* property"
   ]
  },
  {
   "cell_type": "code",
   "execution_count": 13,
   "metadata": {},
   "outputs": [],
   "source": [
    "molecules = g.get_molecules()\n",
    "chromosome = g.best_chromosome"
   ]
  },
  {
   "cell_type": "markdown",
   "metadata": {},
   "source": [
    "### PharmComplex instance\n",
    "Creates instance of PharmComplex class wich responsible for pharmacophore creation, inputs are molecules and chromosome"
   ]
  },
  {
   "cell_type": "code",
   "execution_count": 19,
   "metadata": {},
   "outputs": [],
   "source": [
    "pcx = PharmComplex(molecules, chromosome)"
   ]
  },
  {
   "cell_type": "markdown",
   "metadata": {},
   "source": [
    "Function *create()* takes distance between different clusters to be considered to one feature center, also u could specify minimum number of features to be considered as cluster."
   ]
  },
  {
   "cell_type": "code",
   "execution_count": 20,
   "metadata": {},
   "outputs": [],
   "source": [
    "pcx.create(distance = 2, num_mols = 5)"
   ]
  },
  {
   "cell_type": "markdown",
   "metadata": {},
   "source": [
    "function *get_coords()* returns dictionary with feature class as a key, and positions as value"
   ]
  },
  {
   "cell_type": "code",
   "execution_count": 21,
   "metadata": {},
   "outputs": [
    {
     "data": {
      "text/plain": [
       "{'Acceptors': [[-1.0978, 1.1821, -2.1812]],\n",
       " 'Donors': [],\n",
       " 'Hydrophobics': [[3.2949, -0.4086, 0.1169], [-3.8261, -0.3294, 0.0192]]}"
      ]
     },
     "execution_count": 21,
     "metadata": {},
     "output_type": "execute_result"
    }
   ],
   "source": [
    "coords = pcx.get_coords()\n",
    "coords"
   ]
  },
  {
   "cell_type": "markdown",
   "metadata": {},
   "source": [
    "### Molecules-pharmacophore visualization"
   ]
  },
  {
   "cell_type": "markdown",
   "metadata": {},
   "source": [
    "For visualization open-source pymol installation requiared. Run pymol in server mode befor."
   ]
  },
  {
   "cell_type": "code",
   "execution_count": 11,
   "metadata": {},
   "outputs": [],
   "source": [
    "py_mol_viz(molecules, chromosome, coords)"
   ]
  },
  {
   "cell_type": "markdown",
   "metadata": {},
   "source": [
    "### Writing results"
   ]
  },
  {
   "cell_type": "markdown",
   "metadata": {},
   "source": [
    "Aligned molecules could be written in .sdf file with function *write()* from GA class, arguments is molecules, chromosome and file name. By default file name is 'molecules.sdf'."
   ]
  },
  {
   "cell_type": "code",
   "execution_count": 15,
   "metadata": {},
   "outputs": [
    {
     "name": "stdout",
     "output_type": "stream",
     "text": [
      "5 molecules were recorded in molecules.sdf\n"
     ]
    }
   ],
   "source": [
    "g.write(molecules, chromosome)"
   ]
  },
  {
   "cell_type": "markdown",
   "metadata": {},
   "source": [
    "Pharmacophore features could be written in .mol2 file by function *write()* from PharmacophoreComplex class. Output file name is 'pharmacophore.mol2'"
   ]
  },
  {
   "cell_type": "code",
   "execution_count": 22,
   "metadata": {},
   "outputs": [],
   "source": [
    "pcx.write()"
   ]
  },
  {
   "cell_type": "code",
   "execution_count": null,
   "metadata": {},
   "outputs": [],
   "source": []
  }
 ],
 "metadata": {
  "kernelspec": {
   "display_name": "Python 3",
   "language": "python",
   "name": "python3"
  },
  "language_info": {
   "codemirror_mode": {
    "name": "ipython",
    "version": 3
   },
   "file_extension": ".py",
   "mimetype": "text/x-python",
   "name": "python",
   "nbconvert_exporter": "python",
   "pygments_lexer": "ipython3",
   "version": "3.8.3"
  }
 },
 "nbformat": 4,
 "nbformat_minor": 4
}
